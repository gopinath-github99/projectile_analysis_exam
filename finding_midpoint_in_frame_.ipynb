{
  "nbformat": 4,
  "nbformat_minor": 0,
  "metadata": {
    "colab": {
      "provenance": [],
      "authorship_tag": "ABX9TyOt86RRXHxn34ZOenfli+RK"
    },
    "kernelspec": {
      "name": "python3",
      "display_name": "Python 3"
    },
    "language_info": {
      "name": "python"
    }
  },
  "cells": [
    {
      "cell_type": "code",
      "execution_count": null,
      "metadata": {
        "id": "bjbXe6y8WwTu"
      },
      "outputs": [],
      "source": []
    },
    {
      "cell_type": "code",
      "execution_count": 1,
      "metadata": {
        "colab": {
          "base_uri": "https://localhost:8080/"
        },
        "id": "jOoMmFltt4-M",
        "outputId": "5d262e3b-eb23-4e8a-a4c9-22c307cf748c"
      },
      "outputs": [
        {
          "output_type": "stream",
          "name": "stdout",
          "text": [
            "Midpoint coordinates: (120, 336)\n"
          ]
        }
      ],
      "source": [
        "from PIL import Image\n",
        "\n",
        "def find_ball_midpoint(image_path):\n",
        "    # Load the image\n",
        "    image = Image.open(image_path).convert('L')\n",
        "    pixels = image.load()\n",
        "    width, height = image.size\n",
        "\n",
        "    # Scaning from the top to find the ball's starting point\n",
        "    top = None\n",
        "    for y in range(height):\n",
        "        for x in range(width):\n",
        "            if pixels[x, y] >= 150:  # Assuming 150 above itensity value will recognize the ball\n",
        "                top = (x, y)\n",
        "                break\n",
        "        if top is not None:\n",
        "            break\n",
        "\n",
        "    # Scaning from the bottom to find the ball's starting point\n",
        "    bottom = None\n",
        "    for y in range(height - 1, -1, -1):\n",
        "        for x in range(width):\n",
        "            if pixels[x, y] >= 150:\n",
        "                bottom = (x, y)\n",
        "                break\n",
        "        if bottom is not None:\n",
        "            break\n",
        "\n",
        "    # Scaning from the left to find the ball's starting point\n",
        "    left = None\n",
        "    for x in range(width):\n",
        "        for y in range(height):\n",
        "            if pixels[x, y] >= 150:\n",
        "                left = (x, y)\n",
        "                break\n",
        "        if left is not None:\n",
        "            break\n",
        "\n",
        "    # Scaning from the right to find the ball's starting point\n",
        "    right = None\n",
        "    for x in range(width - 1, -1, -1):\n",
        "        for y in range(height):\n",
        "            if pixels[x, y] >= 150:\n",
        "                right = (x, y)\n",
        "                break\n",
        "        if right is not None:\n",
        "            break\n",
        "\n",
        "    # Calculateing the midpoint of the square formed by the four starting points\n",
        "    midpoint_x = (left[0] + right[0]) // 2\n",
        "    midpoint_y = (top[1] + bottom[1]) // 2\n",
        "    midpoint = (midpoint_x, midpoint_y)\n",
        "\n",
        "    return midpoint\n",
        "\n",
        "\n",
        "# Example usage\n",
        "image_path = '/content/vlcsnap-2023-06-23-02h05m46s065.png'\n",
        "midpoint = find_ball_midpoint(image_path)\n",
        "print(\"Midpoint coordinates:\", midpoint)\n"
      ]
    }
  ]
}