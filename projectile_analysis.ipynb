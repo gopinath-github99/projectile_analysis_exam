{
  "cells": [
    {
      "cell_type": "markdown",
      "metadata": {
        "id": "5ZYnld6B_QS4"
      },
      "source": [
        " **EXTRACTING FRAMES FROM THE VIDEO AND CROPPING IT AND CONVERTING IT INTO GRAY SCALE**"
      ]
    },
    {
      "cell_type": "code",
      "execution_count": null,
      "metadata": {
        "id": "4-FdlWzh1gH1"
      },
      "outputs": [],
      "source": [
        "\n",
        "import cv2\n",
        "import numpy as np\n",
        "import matplotlib.pyplot as plt\n",
        "\n",
        "\n",
        "\n",
        "def extract_frames(video_path):\n",
        "    cap = cv2.VideoCapture(video_path)\n",
        "    frame_count = int(cap.get(cv2.CAP_PROP_FRAME_COUNT))\n",
        "    frames = []\n",
        "\n",
        "    for i in range(frame_count):\n",
        "        ret, frame = cap.read()\n",
        "\n",
        "        if ret:\n",
        "            frames.append(frame)\n",
        "\n",
        "\n",
        "    cap.release()\n",
        "    return frames\n",
        "\n",
        "\n",
        "\n",
        "\n",
        "def crop_frames(frames, x, y, width, height):\n",
        "    cropped_frames = []\n",
        "\n",
        "    for frame in frames:\n",
        "        cropped_frame = frame[y:y+height, x:x+width]\n",
        "        cropped_frames.append(cropped_frame)\n",
        "\n",
        "    return cropped_frames\n",
        "\n",
        "def convert_to_bw(frames):\n",
        "    bw_frames = []\n",
        "\n",
        "    for frame in frames:\n",
        "        bw_frame = cv2.cvtColor(frame, cv2.COLOR_BGR2GRAY)\n",
        "        bw_frames.append(bw_frame)\n",
        "\n",
        "    return bw_frames\n",
        "\n",
        "# Specified the path to the video file\n",
        "video_path = 'video.mp4'\n",
        "\n",
        "# Specified the cropping dimensions\n",
        "x = 70  # x-coordinate of the top-left corner of the crop\n",
        "y = 90  # y-coordinate of the top-left corner of the crop\n",
        "width = 1140  # width of the crop\n",
        "height = 450  # height of the crop\n",
        "\n",
        "\n",
        "# Extracting frames from the video\n",
        "frames = extract_frames(video_path)\n",
        "\n",
        "# Cropping the frames\n",
        "cropped_frames = crop_frames(frames, x, y, width, height)\n",
        "\n",
        "# Converting the cropped frames to black and white\n",
        "bw_frames = convert_to_bw(cropped_frames)\n",
        "#plt.imshow(bw_frames[0])\n",
        "\n",
        "print(\"frames cropped and extracted and stored in bw_frames\")"
      ]
    },
    {
      "cell_type": "markdown",
      "metadata": {
        "id": "XSlX5dDC0eA3"
      },
      "source": [
        "**FINDING THE PIXEL INTENSITIES OF HOLE IN THE VIDEO**"
      ]
    },
    {
      "cell_type": "code",
      "execution_count": null,
      "metadata": {
        "id": "r7yCrMzK3Oeg"
      },
      "outputs": [],
      "source": [
        "import cv2\n",
        "import matplotlib.pyplot as plt\n",
        "import numpy as np\n",
        "\n",
        "\n",
        "# Defined the region of interest.\n",
        "roi_x = 433  # X-coordinate of the top-left corner of the rectangle\n",
        "roi_y = 264  # Y-coordinate of the top-left corner of the rectangle\n",
        "roi_width = 8  # Width of the rectangle\n",
        "roi_height = 8  # Height of the rectangle\n",
        "\n",
        "pixel_values = []\n",
        "\n",
        "# Processing each frame of the video\n",
        "\n",
        "for frame in bw_frames:\n",
        "    # Extracting the region of interest\n",
        "    roi = frame[roi_y:roi_y+roi_height, roi_x:roi_x+roi_width]\n",
        "\n",
        "    # Accumulating pixel intensity values\n",
        "    pixel_values.extend(roi.flatten())\n",
        "\n",
        "\n",
        "\n",
        "\n",
        "# Calculating the histogram of pixel intensities using NumPy\n",
        "histogram, bin_edges = np.histogram(pixel_values, bins=256, range=[0, 256])\n",
        "print(\"Maximum pixel intensity in the hole :\")\n",
        "print(max(pixel_values))\n",
        "# Plotting the histogram\n",
        "plt.hist(pixel_values,bin_edges )\n",
        "plt.xlabel('Pixel Intensity')\n",
        "plt.ylabel('Frequency')\n",
        "plt.title('Histogram of Pixel Intensities (All Frames)')\n",
        "plt.show()\n"
      ]
    },
    {
      "cell_type": "markdown",
      "metadata": {
        "id": "1LjVKy5L0eA4"
      },
      "source": [
        "**FINDING MIDPOINTS OF THE BALL IN EACH FRAME**"
      ]
    },
    {
      "cell_type": "code",
      "execution_count": null,
      "metadata": {
        "id": "1EQZVmJ55NWJ"
      },
      "outputs": [],
      "source": [
        "def find_ball_midpoints(frames):\n",
        "    midpoint_list = []\n",
        "\n",
        "    for index, frame in enumerate(frames):\n",
        "\n",
        "           # Applying a threshold to convert the image to binary (black and white)\n",
        "           _, binary = cv2.threshold(frame, 100, 255, cv2.THRESH_BINARY)\n",
        "\n",
        "           #if index == 190:\n",
        "             #plt.imshow(binary)\n",
        "\n",
        "           y_coords, x_coords = np.nonzero(binary) #getting ball pixels only\n",
        "\n",
        "\n",
        "           if len(y_coords) > 0:\n",
        "\n",
        "\n",
        "                # Finding the starting pixels in each direction\n",
        "               top_pixel = (np.min(x_coords), np.min(y_coords))\n",
        "               bottom_pixel = (np.max(x_coords), np.max(y_coords))\n",
        "\n",
        "               # Calculating the mid pont  of rectangle  using the starting pixels\n",
        "               midpoint_x = (top_pixel[0] + bottom_pixel[0]) / 2\n",
        "               midpoint_y = (top_pixel[1] + bottom_pixel[1]) / 2\n",
        "\n",
        "               print((index,int(midpoint_x), 450 - int(midpoint_y)))\n",
        "               midpoint_list.append((index,int(midpoint_x), 450 - int(midpoint_y)))\n",
        "           else:\n",
        "               print((index, 0, 0))\n",
        "\n",
        "    return midpoint_list\n",
        "\n",
        "\n",
        "midpoints = find_ball_midpoints(bw_frames)\n"
      ]
    },
    {
      "cell_type": "markdown",
      "metadata": {
        "id": "kdhBedOECMdC",
        "tags": []
      },
      "source": [
        "**From midpoints, seperating frame numbers, x and y co-ordinates. Calculating delta x,delta y, delta y/delta x which is slope**"
      ]
    },
    {
      "cell_type": "code",
      "execution_count": null,
      "metadata": {
        "id": "HgVDrHzwCKwR"
      },
      "outputs": [],
      "source": [
        "# Extracting frame_no, x, and y coordinates from the midpoints tuples\n",
        "frame_nos = [t[0] for t in midpoints]\n",
        "x_coords = [t[1] for t in midpoints]\n",
        "y_coords = [t[2] for t in midpoints]\n",
        "\n",
        "# Calculate delta x\n",
        "delta_x = np.diff(x_coords)\n",
        "\n",
        "# Calculate delta y\n",
        "delta_y = np.diff(y_coords)\n",
        "\n",
        "# Calculate delta y / delta x which is tan (theta)\n",
        "delta_ratio = np.divide(delta_y, delta_x)\n",
        "print(\"input data is ready\")"
      ]
    },
    {
      "cell_type": "markdown",
      "metadata": {
        "id": "ahw95Mlq0eA5"
      },
      "source": [
        "**PLOTTING FRAME NUMBER vs SLOPE GRAPH**"
      ]
    },
    {
      "cell_type": "code",
      "execution_count": null,
      "metadata": {
        "id": "C0J-2KCxC8cK"
      },
      "outputs": [],
      "source": [
        "# Fitting a linear regression line to the coordinates\n",
        "coefficients = np.polyfit(frame_nos[:-1], delta_ratio, 1)\n",
        "m, b = coefficients\n",
        "\n",
        "# Generating x values for the plot\n",
        "n = np.linspace(0, 600, 100)\n",
        "\n",
        "# Calculating y values based on the linear equation\n",
        "slope = m * n + b\n",
        "\n",
        "# When slope is sqare root 3, finding the frame number\n",
        "\n",
        "print(\"Frame number when slope is root 3\")\n",
        "\n",
        "print ( round((np.sqrt(3) - b ) / m) )\n",
        "\n",
        "# Plotting the linear graph\n",
        "plt.plot(n, slope, label='Linear Graph')\n",
        "\n",
        "# Plotting the original coordinates\n",
        "plt.scatter(frame_nos[:-1], delta_ratio, color='blue', label='Coordinates')\n",
        "\n",
        "# Printing the equation on the graph\n",
        "equation = f\"slope = {m:.4f}n + {b:.4f}\"\n",
        "plt.text(1, 8, equation, fontsize=12)\n",
        "\n",
        "plt.xlabel('frame number')\n",
        "plt.ylabel('slope')\n",
        "plt.title('frame number versus slope/tan')\n",
        "plt.show()\n"
      ]
    },
    {
      "cell_type": "markdown",
      "metadata": {
        "id": "9UH-Wx5PGoAc",
        "tags": []
      },
      "source": [
        "**PLOTTING FRAME NUMBER vs X graph . HENCE FINDING X co-ordinate OF LAUNCH ORIGIN OF THE PROJECTILE**"
      ]
    },
    {
      "cell_type": "code",
      "execution_count": null,
      "metadata": {
        "id": "5Kjb2ObiHTyz"
      },
      "outputs": [],
      "source": [
        "# Fitting a linear regression line to the coordinates\n",
        "coefficients = np.polyfit(frame_nos, x_coords, 1)\n",
        "m, b = coefficients\n",
        "\n",
        "# Generating x values for the plot\n",
        "n = np.linspace(0, 600, 100)\n",
        "\n",
        "# Calculating x values based on the linear equation\n",
        "x = m * n + b\n",
        "\n",
        "print(\"The x value where frame number is 179 :\")\n",
        "print( round((m * 179) + b))\n",
        "\n",
        "# Plotting the linear graph\n",
        "plt.plot(n, x, label='Linear Graph')\n",
        "\n",
        "# Plotting the original coordinates\n",
        "plt.scatter(frame_nos, x_coords, color='blue', label='Coordinates')\n",
        "\n",
        "# Printing the equation on the graph\n",
        "equation = f\"x = {m:.4f}n + {b:.4f}\"\n",
        "plt.text(1, 8, equation, fontsize=12)\n",
        "\n",
        "plt.xlabel('frame number')\n",
        "plt.ylabel('x')\n",
        "plt.title('frame number versus x')\n",
        "plt.show()\n"
      ]
    },
    {
      "cell_type": "markdown",
      "metadata": {
        "id": "LqCTw2YkLo-t",
        "tags": []
      },
      "source": [
        "**PLOTTING FRAME NUMBER versus Y co-ordinate . HENCE FINDING Y co-ordinate OF THE LAUNCH ORIGIN OF THE PROJECTILE**"
      ]
    },
    {
      "cell_type": "code",
      "execution_count": null,
      "metadata": {
        "id": "NY3YhXDuL1MH"
      },
      "outputs": [],
      "source": [
        "# Fitting a quadratic curve to the coordinates\n",
        "coefficients = np.polyfit(frame_nos, y_coords, 2)\n",
        "a, b, c = coefficients\n",
        "\n",
        "# Generating x values for the plot\n",
        "n = np.linspace(150, 400, 100)\n",
        "\n",
        "# Calculating y values based on the quadratic equation\n",
        "y = a * n**2 + b * n + c\n",
        "\n",
        "print(\"Value of Y co ordinate when frame number is 179:\")\n",
        "print( round( (a * 179 * 179) + (b * 179) + c  ))\n",
        "\n",
        "# Plotting x versus y\n",
        "plt.plot(n, y)\n",
        "plt.scatter(frame_nos, y_coords, color='blue', label='Coordinates')\n",
        "\n",
        "# Printing the equation on the graph\n",
        "equation = f\"y = {a:.4f}n^2 + {b:.4f}n + {c:.4f}\"\n",
        "plt.text(0.5, 10, equation, fontsize=12)\n",
        "\n",
        "plt.xlabel('frame number')\n",
        "plt.ylabel('y')\n",
        "plt.title('frame number versus y')\n",
        "plt.show()"
      ]
    },
    {
      "cell_type": "markdown",
      "metadata": {
        "id": "RXcyTTUDQHUf"
      },
      "source": [
        "**Plotting X vs Y graph . Hence Finding RANGE and MAXIMUM HEIGHT**"
      ]
    },
    {
      "cell_type": "code",
      "execution_count": null,
      "metadata": {
        "id": "46VtLkUFQSeZ"
      },
      "outputs": [],
      "source": [
        "import math\n",
        "\n",
        "# Fitting a quadratic curve to the coordinates\n",
        "coefficients = np.polyfit(x_coords, y_coords, 2)\n",
        "a, b, c = coefficients\n",
        "\n",
        "# Generating x values for the plot\n",
        "x = np.linspace(0, 1200, 20)\n",
        "\n",
        "# Calculating y values based on the quadratic equation\n",
        "y = a * x**2 + b * x + c\n",
        "\n",
        "\n",
        "# Origin is at (6,-65) .\n",
        "# Finding Range\n",
        "# Finding X co ordinates where y = - 65 using the equation\n",
        "\n",
        "def solve_quadratic(a, b, c):\n",
        "    # Calculating the discriminant\n",
        "    discriminant = b**2 - 4*a*c\n",
        "\n",
        "    # Check if the equation has real roots\n",
        "    if discriminant < 0:\n",
        "        return None  # No real roots exist\n",
        "\n",
        "    # Calculating the roots\n",
        "    root1 = (-b + math.sqrt(discriminant)) / (2*a)\n",
        "    root2 = (-b - math.sqrt(discriminant)) / (2*a)\n",
        "\n",
        "    return root1, root2\n",
        "\n",
        "roots = solve_quadratic(a,b,c+65)\n",
        "\n",
        "print (roots)\n",
        "\n",
        "\n",
        "\n",
        "\n",
        "# Plotting x versus y\n",
        "plt.plot(x, y)\n",
        "plt.scatter(x_coords, y_coords, color='blue', label='Coordinates')\n",
        "\n",
        "# Printing the equation on the graph\n",
        "equation = f\"y = {a:.4f}x^2 + {b:.4f}x + {c:.4f}\"\n",
        "plt.text(0.5, 10, equation, fontsize=12)\n",
        "\n",
        "plt.xlabel('x')\n",
        "plt.ylabel('y')\n",
        "plt.title('x versus y')\n",
        "plt.show()"
      ]
    },
    {
      "cell_type": "markdown",
      "metadata": {
        "id": "87vmXvwV0eA7"
      },
      "source": [
        "**Hence 1143.075 - 5.0483 = 1138.0267 PIXELS is the RANGE of projectile.\n",
        "1138.0267/797=1.42788 Meters is the RANGE of projectile.**"
      ]
    },
    {
      "cell_type": "markdown",
      "metadata": {
        "id": "N7B1S3xf0eA8"
      },
      "source": [
        "**X co-ordinate of MAXIMUM HEIGHT is (5.0483+1143.075)/2 = 574.06**"
      ]
    },
    {
      "cell_type": "code",
      "execution_count": null,
      "metadata": {
        "id": "xxwXcG3S0eA8"
      },
      "outputs": [],
      "source": [
        "((-0.0015 * 574.06 * 574.06) + ( 1.7470 * 574.06) - 73.7807 ) / 797"
      ]
    },
    {
      "cell_type": "markdown",
      "metadata": {
        "id": "FScdjZXT0eA8"
      },
      "source": [
        "**0.546 meters is the Maximum Height of the Projectile**"
      ]
    },
    {
      "cell_type": "markdown",
      "metadata": {
        "id": "xt3aVT5p0eA8"
      },
      "source": [
        "**PLOTTING FRAME NUMBER VERSUS delta_x GRAPH**"
      ]
    },
    {
      "cell_type": "code",
      "execution_count": null,
      "metadata": {
        "id": "EA8mqcU8bANh"
      },
      "outputs": [],
      "source": [
        "# Fitting a linear regression line to the coordinates\n",
        "coefficients = np.polyfit(frame_nos[:-1], delta_x, 1)\n",
        "m, b = coefficients\n",
        "\n",
        "# Generating x values for the plot\n",
        "n = np.linspace(0, 600, 100)\n",
        "\n",
        "# Calculating y values based on the linear equation\n",
        "dx = m * n + b\n",
        "\n",
        "# Plotting the linear graph\n",
        "plt.plot(n, dx, label='Linear Graph')\n",
        "\n",
        "# Plotting the original coordinates\n",
        "plt.scatter(frame_nos[:-1], delta_x, color='blue', label='Coordinates')\n",
        "\n",
        "# Printing the equation on the graph\n",
        "equation = f\"dx = {m:.4f}n + {b:.4f}\"\n",
        "plt.text(1, 8, equation, fontsize=12)\n",
        "\n",
        "plt.xlabel('frame number')\n",
        "plt.ylabel('dx')\n",
        "plt.title('frame number versus delta x')\n",
        "plt.show()"
      ]
    },
    {
      "cell_type": "markdown",
      "metadata": {
        "id": "jSvxMK2J0eA9"
      },
      "source": [
        "**Horizantal velocity of the projectile is 5.7652 pixels/frame**"
      ]
    },
    {
      "cell_type": "code",
      "execution_count": null,
      "metadata": {
        "id": "Lh8EMBDfc6WM"
      },
      "outputs": [],
      "source": [
        "(5.7652/ 797 ) / (1/266.3)"
      ]
    },
    {
      "cell_type": "markdown",
      "metadata": {
        "id": "nK52qEr40eA9"
      },
      "source": [
        "**1.93 meters/sec is the Horizantal Velocity.**"
      ]
    },
    {
      "cell_type": "markdown",
      "metadata": {
        "id": "bPkmNwua0eA-"
      },
      "source": [
        "**PLOTTING THE FRAME NUMBER VERSUS delta_y GRAPH**"
      ]
    },
    {
      "cell_type": "code",
      "execution_count": null,
      "metadata": {
        "id": "67lH6v56drP7"
      },
      "outputs": [],
      "source": [
        "# Fitting a linear regression line to the coordinates\n",
        "coefficients = np.polyfit(frame_nos[:-1], delta_y, 1)\n",
        "m, b = coefficients\n",
        "\n",
        "# Generating x values for the plot\n",
        "n = np.linspace(0, 600, 100)\n",
        "\n",
        "# Calculating y values based on the linear equation\n",
        "dy = m * n + b\n",
        "\n",
        "# Plotting the linear graph\n",
        "plt.plot(n, dy, label='Linear Graph')\n",
        "\n",
        "# Plotting the original coordinates\n",
        "plt.scatter(frame_nos[:-1], delta_y, color='blue', label='Coordinates')\n",
        "\n",
        "# Printing the equation on the graph\n",
        "equation = f\"dy = {m:.6f}n + {b:.6f}\"\n",
        "plt.text(1, 8, equation, fontsize=12)\n",
        "\n",
        "plt.xlabel('frame number')\n",
        "plt.ylabel('dy')\n",
        "plt.title('frame number versus delta y')\n",
        "plt.show()"
      ]
    },
    {
      "cell_type": "markdown",
      "metadata": {
        "id": "wp3f7M1E0eA-"
      },
      "source": [
        "**Since this is the graph of vertical velocity, slope of this graph gives accelaration due to gravity g = -0.110031 pixel/ frame squared**"
      ]
    },
    {
      "cell_type": "code",
      "execution_count": null,
      "metadata": {
        "id": "cClPxIaeewWr"
      },
      "outputs": [],
      "source": [
        "(-0.110031 / 797 ) / (1/(266.3 * 266.3))"
      ]
    },
    {
      "cell_type": "markdown",
      "metadata": {
        "id": "bEXcB6pQ0eA-"
      },
      "source": [
        "**The g value was found by video analysis to be 9.8 meter/second square**"
      ]
    },
    {
      "cell_type": "code",
      "execution_count": null,
      "metadata": {
        "id": "q2yzpVsC0eA-"
      },
      "outputs": [],
      "source": []
    }
  ],
  "metadata": {
    "colab": {
      "provenance": []
    },
    "kernelspec": {
      "display_name": "Python 3 (ipykernel)",
      "language": "python",
      "name": "python3"
    },
    "language_info": {
      "codemirror_mode": {
        "name": "ipython",
        "version": 3
      },
      "file_extension": ".py",
      "mimetype": "text/x-python",
      "name": "python",
      "nbconvert_exporter": "python",
      "pygments_lexer": "ipython3",
      "version": "3.10.9"
    }
  },
  "nbformat": 4,
  "nbformat_minor": 0
}