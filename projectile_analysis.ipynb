{
  "nbformat": 4,
  "nbformat_minor": 0,
  "metadata": {
    "colab": {
      "provenance": [],
      "authorship_tag": "ABX9TyOWhjrOtneldlrV2Y0krMTx"
    },
    "kernelspec": {
      "name": "python3",
      "display_name": "Python 3"
    },
    "language_info": {
      "name": "python"
    }
  },
  "cells": [
    {
      "cell_type": "markdown",
      "source": [
        "## **Extracting frames from the video and cropping it and converting it into grey scale**"
      ],
      "metadata": {
        "id": "5ZYnld6B_QS4"
      }
    },
    {
      "cell_type": "code",
      "execution_count": 8,
      "metadata": {
        "colab": {
          "base_uri": "https://localhost:8080/"
        },
        "id": "4-FdlWzh1gH1",
        "outputId": "ee8389cf-ebae-4133-aa64-d9a0d2c95d26"
      },
      "outputs": [
        {
          "output_type": "stream",
          "name": "stdout",
          "text": [
            "frames cropped and extracted ans stored in bw_frames\n"
          ]
        }
      ],
      "source": [
        "from google.colab.patches import cv2_imshow\n",
        "import cv2\n",
        "import numpy as np\n",
        "import matplotlib.pyplot as plt\n",
        "\n",
        "\n",
        "def extract_frames(video_path):\n",
        "    cap = cv2.VideoCapture(video_path)\n",
        "    frame_count = int(cap.get(cv2.CAP_PROP_FRAME_COUNT))\n",
        "    frames = []\n",
        "\n",
        "    for i in range(frame_count):\n",
        "        ret, frame = cap.read()\n",
        "        if ret:\n",
        "            frames.append(frame)\n",
        "\n",
        "    cap.release()\n",
        "    return frames\n",
        "\n",
        "\n",
        "\n",
        "def crop_frames(frames, x, y, width, height):\n",
        "    cropped_frames = []\n",
        "\n",
        "    for frame in frames:\n",
        "        cropped_frame = frame[y:y+height, x:x+width]\n",
        "        cropped_frames.append(cropped_frame)\n",
        "\n",
        "    return cropped_frames\n",
        "\n",
        "def convert_to_bw(frames):\n",
        "    bw_frames = []\n",
        "\n",
        "    for frame in frames:\n",
        "        bw_frame = cv2.cvtColor(frame, cv2.COLOR_BGR2GRAY)\n",
        "        bw_frames.append(bw_frame)\n",
        "\n",
        "    return bw_frames\n",
        "\n",
        "# Specify the path to the video file\n",
        "video_path = '/content/video.mp4'\n",
        "\n",
        "# Specify the cropping dimensions\n",
        "x = 70  # x-coordinate of the top-left corner of the crop\n",
        "y = 90  # y-coordinate of the top-left corner of the crop\n",
        "width = 1140  # width of the crop\n",
        "height = 450  # height of the crop\n",
        "\n",
        "\n",
        "# Extract frames from the video\n",
        "frames = extract_frames(video_path)\n",
        "\n",
        "# Crop the frames\n",
        "cropped_frames = crop_frames(frames, x, y, width, height)\n",
        "\n",
        "# Convert the cropped frames to black and white\n",
        "bw_frames = convert_to_bw(cropped_frames)\n",
        "\n",
        "print(\"frames cropped and extracted ans stored in bw_frames\")"
      ]
    },
    {
      "cell_type": "markdown",
      "source": [
        "### **Finding the pixel intensities of hole in the video**"
      ],
      "metadata": {
        "id": "zWwaMvCC3AKl"
      }
    },
    {
      "cell_type": "code",
      "source": [
        "import cv2\n",
        "import matplotlib.pyplot as plt\n",
        "import numpy as np\n",
        "\n",
        "\n",
        "# Define the region of interest (rectangle coordinates)\n",
        "roi_x = 433  # X-coordinate of the top-left corner of the rectangle\n",
        "roi_y = 264  # Y-coordinate of the top-left corner of the rectangle\n",
        "roi_width = 8  # Width of the rectangle\n",
        "roi_height = 8  # Height of the rectangle\n",
        "\n",
        "pixel_values = []\n",
        "\n",
        "# Process each frame of the video\n",
        "\n",
        "for frame in bw_frames:\n",
        "    # Extract the region of interest\n",
        "    roi = frame[roi_y:roi_y+roi_height, roi_x:roi_x+roi_width]\n",
        "\n",
        "    # Convert the region of interest to grayscale\n",
        "    #gray_roi = cv2.cvtColor(roi, cv2.COLOR_BGR2GRAY)\n",
        "\n",
        "    # Accumulate pixel values\n",
        "    pixel_values.extend(roi.flatten())\n",
        "\n",
        "\n",
        "\n",
        "# Calculate the histogram of pixel intensities using NumPy\n",
        "histogram, bin_edges = np.histogram(pixel_values, bins=256, range=[0, 256])\n",
        "print(\"Maximum pixel intensity in the hole :\")\n",
        "print(max(pixel_values))\n",
        "# Plot the histogram\n",
        "plt.hist(pixel_values,bin_edges )\n",
        "plt.xlabel('Pixel Intensity')\n",
        "plt.ylabel('Frequency')\n",
        "plt.title('Histogram of Pixel Intensities (All Frames)')\n",
        "plt.show()\n"
      ],
      "metadata": {
        "colab": {
          "base_uri": "https://localhost:8080/",
          "height": 507
        },
        "id": "r7yCrMzK3Oeg",
        "outputId": "2b3908d0-8381-4f90-a117-1501be15da51"
      },
      "execution_count": 9,
      "outputs": [
        {
          "output_type": "stream",
          "name": "stdout",
          "text": [
            "Maximum pixel intensity in the hole :\n",
            "98\n"
          ]
        },
        {
          "output_type": "display_data",
          "data": {
            "text/plain": [
              "<Figure size 640x480 with 1 Axes>"
            ],
            "image/png": "[encoded data removed]"
          },
          "metadata": {}
        }
      ]
    },
    {
      "cell_type": "markdown",
      "source": [
        "# Finding Midpoints of the ball in each frame"
      ],
      "metadata": {
        "id": "mqh38tsk5EcE"
      }
    },
    {
      "cell_type": "code",
      "source": [
        "def find_ball_midpoints(frames):\n",
        "    midpoint_list = []\n",
        "\n",
        "    for index, frame in enumerate(frames):\n",
        "\n",
        "           # Apply a threshold to convert the image to binary (black and white)\n",
        "           _, binary = cv2.threshold(frame, 100, 255, cv2.THRESH_BINARY)\n",
        "\n",
        "           y_coords, x_coords = np.nonzero(binary) #getting ball pixels only\n",
        "\n",
        "\n",
        "           if len(y_coords) > 0:\n",
        "\n",
        "\n",
        "                # Find the starting pixels in each direction\n",
        "               top_pixel = (np.min(x_coords), np.min(y_coords))\n",
        "               bottom_pixel = (np.max(x_coords), np.max(y_coords))\n",
        "\n",
        "               # Calculate the mid pont  of rectangle  using the starting pixels\n",
        "               midpoint_x = (top_pixel[0] + bottom_pixel[0]) / 2\n",
        "               midpoint_y = (top_pixel[1] + bottom_pixel[1]) / 2\n",
        "\n",
        "               print((index,int(midpoint_x), 450 - int(midpoint_y)))\n",
        "               midpoint_list.append((index,int(midpoint_x), 450 - int(midpoint_y)))\n",
        "           else:\n",
        "               print((index, 0, 0))\n",
        "\n",
        "    return midpoint_list\n",
        "\n",
        "\n",
        "midpoints = find_ball_midpoints(bw_frames)\n"
      ],
      "metadata": {
        "id": "1EQZVmJ55NWJ"
      },
      "execution_count": null,
      "outputs": []
    },
    {
      "cell_type": "markdown",
      "source": [
        "## **From midpoints, seperating frame numbers, x and y co-ordinates. Calculating delta x,delta y, delta y/delta x which is slope**"
      ],
      "metadata": {
        "id": "kdhBedOECMdC"
      }
    },
    {
      "cell_type": "code",
      "source": [
        "# Extract frame_no, x, and y coordinates from the midpoints tuples\n",
        "frame_nos = [t[0] for t in midpoints]\n",
        "x_coords = [t[1] for t in midpoints]\n",
        "y_coords = [t[2] for t in midpoints]\n",
        "\n",
        "# Calculate delta x\n",
        "delta_x = np.diff(x_coords)\n",
        "\n",
        "# Calculate delta y\n",
        "delta_y = np.diff(y_coords)\n",
        "\n",
        "# Calculate delta y / delta x which is tan (theta)\n",
        "delta_ratio = np.divide(delta_y, delta_x)"
      ],
      "metadata": {
        "id": "HgVDrHzwCKwR"
      },
      "execution_count": null,
      "outputs": []
    },
    {
      "cell_type": "markdown",
      "source": [
        "Plotting frame number versus slope graph"
      ],
      "metadata": {
        "id": "x9TfAeaeC1oL"
      }
    },
    {
      "cell_type": "code",
      "source": [],
      "metadata": {
        "id": "C0J-2KCxC8cK"
      },
      "execution_count": null,
      "outputs": []
    }
  ]
}